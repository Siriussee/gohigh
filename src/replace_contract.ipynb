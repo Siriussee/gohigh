{
 "cells": [
  {
   "cell_type": "markdown",
   "id": "51e63319-b8eb-4b92-a4db-74caa60f324a",
   "metadata": {
    "tags": []
   },
   "source": [
    "## Read Dataset"
   ]
  },
  {
   "cell_type": "code",
   "execution_count": 2,
   "id": "d7364d2c-158e-44c5-933b-51353619c42c",
   "metadata": {},
   "outputs": [],
   "source": [
    "import pandas as pd\n",
    "import re"
   ]
  },
  {
   "cell_type": "code",
   "execution_count": 3,
   "id": "644e9f02-aea8-453a-9d36-247c3bc7f25e",
   "metadata": {},
   "outputs": [
    {
     "name": "stdout",
     "output_type": "stream",
     "text": [
      "<class 'pandas.core.frame.DataFrame'>\n",
      "RangeIndex: 108 entries, 0 to 107\n",
      "Data columns (total 8 columns):\n",
      " #   Column            Non-Null Count  Dtype \n",
      "---  ------            --------------  ----- \n",
      " 0   address           108 non-null    object\n",
      " 1   pass              108 non-null    bool  \n",
      " 2   creation_date     108 non-null    object\n",
      " 3   code              108 non-null    object\n",
      " 4   contract_name     108 non-null    object\n",
      " 5   compiler_version  108 non-null    object\n",
      " 6   types             108 non-null    object\n",
      " 7   hash_code         108 non-null    object\n",
      "dtypes: bool(1), object(7)\n",
      "memory usage: 6.1+ KB\n"
     ]
    }
   ],
   "source": [
    "send_dataset = pd.read_csv('dataset2_send_pass.csv', compression='gzip')\n",
    "send_dataset.info()"
   ]
  },
  {
   "cell_type": "code",
   "execution_count": 4,
   "id": "185a346d-cad2-46a0-9775-9d1f367fc378",
   "metadata": {},
   "outputs": [
    {
     "data": {
      "text/html": [
       "<div>\n",
       "<style scoped>\n",
       "    .dataframe tbody tr th:only-of-type {\n",
       "        vertical-align: middle;\n",
       "    }\n",
       "\n",
       "    .dataframe tbody tr th {\n",
       "        vertical-align: top;\n",
       "    }\n",
       "\n",
       "    .dataframe thead th {\n",
       "        text-align: right;\n",
       "    }\n",
       "</style>\n",
       "<table border=\"1\" class=\"dataframe\">\n",
       "  <thead>\n",
       "    <tr style=\"text-align: right;\">\n",
       "      <th></th>\n",
       "      <th>address</th>\n",
       "      <th>pass</th>\n",
       "      <th>creation_date</th>\n",
       "      <th>code</th>\n",
       "      <th>contract_name</th>\n",
       "      <th>compiler_version</th>\n",
       "      <th>types</th>\n",
       "      <th>hash_code</th>\n",
       "    </tr>\n",
       "  </thead>\n",
       "  <tbody>\n",
       "    <tr>\n",
       "      <th>13</th>\n",
       "      <td>0x6f9073c5c718af1791d1b8c1cc90f47a8c14cf27</td>\n",
       "      <td>True</td>\n",
       "      <td>2020-08-25 20:43:55 UTC</td>\n",
       "      <td>/**\\n *  @authors: [@mtsalenc]\\n *  @reviewers...</td>\n",
       "      <td>GeneralizedTCR</td>\n",
       "      <td>0.5.17</td>\n",
       "      <td>send</td>\n",
       "      <td>92bf7443ea9b07b46605c7c7e88697a72dddfc70168859...</td>\n",
       "    </tr>\n",
       "    <tr>\n",
       "      <th>41</th>\n",
       "      <td>0xad412acc218777bc129871f37bb2b278c48f085f</td>\n",
       "      <td>True</td>\n",
       "      <td>2020-03-09 15:16:20 UTC</td>\n",
       "      <td>pragma solidity ^0.5.16;\\n\\nlibrary SafeMath {...</td>\n",
       "      <td>Dex</td>\n",
       "      <td>0.5.16</td>\n",
       "      <td>send</td>\n",
       "      <td>a309728729743d1b1936d84e648c13cbd004bece46b7c4...</td>\n",
       "    </tr>\n",
       "    <tr>\n",
       "      <th>73</th>\n",
       "      <td>0x3a7edc1eb16cb454e4964ec51642f7d7b35b5292</td>\n",
       "      <td>True</td>\n",
       "      <td>2020-08-25 00:10:27 UTC</td>\n",
       "      <td>pragma solidity ^0.4.26;\\n\\nlibrary CappedMath...</td>\n",
       "      <td>KlerosGovernor</td>\n",
       "      <td>0.4.26</td>\n",
       "      <td>send</td>\n",
       "      <td>98af1e3b5db3e891adc514e7ef7cc8b62723a3955542dc...</td>\n",
       "    </tr>\n",
       "  </tbody>\n",
       "</table>\n",
       "</div>"
      ],
      "text/plain": [
       "                                       address  pass            creation_date  \\\n",
       "13  0x6f9073c5c718af1791d1b8c1cc90f47a8c14cf27  True  2020-08-25 20:43:55 UTC   \n",
       "41  0xad412acc218777bc129871f37bb2b278c48f085f  True  2020-03-09 15:16:20 UTC   \n",
       "73  0x3a7edc1eb16cb454e4964ec51642f7d7b35b5292  True  2020-08-25 00:10:27 UTC   \n",
       "\n",
       "                                                 code   contract_name  \\\n",
       "13  /**\\n *  @authors: [@mtsalenc]\\n *  @reviewers...  GeneralizedTCR   \n",
       "41  pragma solidity ^0.5.16;\\n\\nlibrary SafeMath {...             Dex   \n",
       "73  pragma solidity ^0.4.26;\\n\\nlibrary CappedMath...  KlerosGovernor   \n",
       "\n",
       "   compiler_version types                                          hash_code  \n",
       "13           0.5.17  send  92bf7443ea9b07b46605c7c7e88697a72dddfc70168859...  \n",
       "41           0.5.16  send  a309728729743d1b1936d84e648c13cbd004bece46b7c4...  \n",
       "73           0.4.26  send  98af1e3b5db3e891adc514e7ef7cc8b62723a3955542dc...  "
      ]
     },
     "execution_count": 4,
     "metadata": {},
     "output_type": "execute_result"
    }
   ],
   "source": [
    "send_dataset.sample(3)"
   ]
  },
  {
   "cell_type": "code",
   "execution_count": 5,
   "id": "9ce3e23d-ad1c-4137-b624-158d98ba7578",
   "metadata": {},
   "outputs": [
    {
     "name": "stdout",
     "output_type": "stream",
     "text": [
      "<class 'pandas.core.frame.DataFrame'>\n",
      "RangeIndex: 346 entries, 0 to 345\n",
      "Data columns (total 8 columns):\n",
      " #   Column            Non-Null Count  Dtype \n",
      "---  ------            --------------  ----- \n",
      " 0   address           346 non-null    object\n",
      " 1   pass              346 non-null    bool  \n",
      " 2   creation_date     346 non-null    object\n",
      " 3   code              346 non-null    object\n",
      " 4   contract_name     346 non-null    object\n",
      " 5   compiler_version  346 non-null    object\n",
      " 6   types             346 non-null    object\n",
      " 7   hash_code         346 non-null    object\n",
      "dtypes: bool(1), object(7)\n",
      "memory usage: 19.4+ KB\n"
     ]
    }
   ],
   "source": [
    "call_dataset = pd.read_csv('dataset2_call_conststring_pass.csv', compression='gzip')\n",
    "call_dataset.info()"
   ]
  },
  {
   "cell_type": "markdown",
   "id": "9d770cf0-c952-4b08-8130-7eb2ebccfb04",
   "metadata": {
    "tags": []
   },
   "source": [
    "## Replace Send Patterns"
   ]
  },
  {
   "cell_type": "code",
   "execution_count": 6,
   "id": "ea13edd0-747a-4b1a-967c-b0a54fddb566",
   "metadata": {},
   "outputs": [],
   "source": [
    "def rreplace(string, ori, new, times):\n",
    "    return new.join(string.rsplit(ori, times))\n",
    "\n",
    "\n",
    "def process_line(line):\n",
    "    #         if (!owner.send(amount)) revert();\n",
    "    pattern_count = [0, 0, 0, 0, 0] # if, ifnot, return, require, bare\n",
    "    \n",
    "    if re.search('if *\\(!*.*\\.send *\\(.*\\).*\\) *revert\\(\\);', line):\n",
    "        string_before = re.search('if *\\(!*.*\\.send *\\(.*\\).*\\) *revert\\(\\);', line).group()\n",
    "        string_after = string_before.replace('if', '').replace('!', '').replace('.send(', '.transfer(').replace('.send (', '.transfer(')\n",
    "        string_after = string_after.replace('revert();', '')\n",
    "        if '==' in string_after:\n",
    "            string_after = string_after.split('==')[0]\n",
    "        string_after = string_after.strip('() ') + ');'\n",
    "\n",
    "        line = line.replace(string_before, string_after)\n",
    "        pattern_count[1] += 1\n",
    "\n",
    "    # if (!addr.send(some_ether)) {\n",
    "    elif re.search('if *\\(![a-zA-Z_\\.\\(\\)_\\[\\]]*\\.send *\\(.*\\) *{*', line):\n",
    "        string_before = re.search('if *\\(![a-zA-Z_\\.\\(\\)_\\[\\]]*\\.send *\\(.*\\) *{*', line).group()\n",
    "        string_after = string_before.replace('if', '').replace('!', '').replace('.send(', '.transfer(').replace('.send (', '.transfer(')\n",
    "        if '{' in string_after:\n",
    "            #string_after = string_after.strip('(){ ') + ');'\n",
    "            string_after = string_after.replace('(', '', 1).replace('{', '', 1)\n",
    "            string_after = rreplace(string_after, ')', '', 1) + ';'\n",
    "            string_after += '\\nif(false)\\n{'\n",
    "        else:\n",
    "            string_after = string_after.strip('() ') + ');'\n",
    "            string_after += '\\nif(false)'\n",
    "\n",
    "        line = line.replace(string_before, string_after)\n",
    "        pattern_count[0] += 1\n",
    "\n",
    "    # if (addr.send(some_ether)) {\n",
    "    elif re.search('if *\\([a-zA-Z_\\.\\(\\)_\\[\\]]*\\.send *\\(.*\\) *{*', line):\n",
    "        string_before = re.search('if *\\([a-zA-Z_\\.\\(\\)_\\[\\]]*\\.send *\\(.*\\) *{*', line).group()\n",
    "        string_after = string_before.replace('if', '').replace('.send(', '.transfer(').replace('.send (', '.transfer(')\n",
    "        if '==' in string_after:\n",
    "            if '{' in string_after:\n",
    "                string_after = string_after.split('==')[0] + ') {'\n",
    "                string_after = string_after.replace('(', '', 1).replace('{', '', 1)\n",
    "                string_after = rreplace(string_after, ')', '', 1) + ';'\n",
    "                string_after += '\\nif(true)\\n{'\n",
    "            else:\n",
    "                string_after = string_after.strip('() ') + ');'\n",
    "                string_after += '\\nif(true)'\n",
    "        else:\n",
    "            if '{' in string_after:\n",
    "                string_after = string_after.replace('(', '', 1).replace('{', '', 1)\n",
    "                string_after = rreplace(string_after, ')', '', 1) + ';'\n",
    "                string_after += '\\nif(true)\\n{'\n",
    "            else:\n",
    "                string_after = string_after.strip('() ') + ');'\n",
    "                string_after += '\\nif(true)'\n",
    "        line = line.replace(string_before, string_after)\n",
    "        pattern_count[1] += 1\n",
    "\n",
    "    # return msg.sender.send(\n",
    "    elif re.search('return .*\\.send *\\(', line):\n",
    "        string_before = re.search('return .*\\.send *\\(', line).group()\n",
    "        string_after = string_before.replace('return', '').replace('.send(', '.transfer(').replace('.send (', '.transfer(')\n",
    "        line = line.replace(string_before, string_after)\n",
    "        pattern_count[2] += 1\n",
    "\n",
    "    # require(any.send(some_ether), 'message');\n",
    "    elif re.search('require *\\([^!,]*\\.send\\([^\\,]*\\), *[\\d\\w_ \\\"\\'\\.]*\\);', line):\n",
    "        string_before = re.search('require *\\([^!,]*\\.send\\([^\\,]*\\), *[\\d\\w_ \\\"\\'\\.]*\\);', line).group()\n",
    "        string_after = string_before.replace('require(', '').replace('require (', '').replace('.send(', '.transfer(').replace('.send (', '.transfer(')\n",
    "        if string_after.find(',') != -1:\n",
    "            string_after = string_after[:string_after.find(',')]\n",
    "            string_after += ';'\n",
    "        else:\n",
    "            string_after = rreplace(string_after, ')', '', 1)\n",
    "        line = line.replace(string_before, string_after)\n",
    "        pattern_count[3] += 1\n",
    "\n",
    "    # require(any.send(some_ether));\n",
    "    elif re.search('require *\\([^!,]*\\.send\\([^\\,]*\\)\\);', line):\n",
    "        string_before = re.search('require *\\([^!,]*\\.send\\([^\\,]*\\)\\);', line).group()\n",
    "        string_after = string_before.replace('require(', '').replace('require (', '').replace('.send(', '.transfer(').replace('.send (', '.transfer(')\n",
    "        if string_after.find(',') != -1:\n",
    "            string_after = string_after[:string_after.find(',')]\n",
    "            string_after += ';'\n",
    "        else:\n",
    "            string_after = rreplace(string_after, ')', '', 1)\n",
    "        line = line.replace(string_before, string_after)\n",
    "        pattern_count[3] += 1\n",
    "\n",
    "    # assert(any.send(some_ether));\n",
    "    elif re.search('assert\\([^!,]*\\.send\\(.*\\)\\);', line):\n",
    "        string_before = re.search('assert\\([^!,]*\\.send\\(.*\\)\\);', line).group()\n",
    "        string_after = string_before.replace('assert(', '').replace('.send(', '.transfer(').replace('.send (', '.transfer(')\n",
    "        if string_after.find(',') != -1:\n",
    "            string_after = string_after[:string_after.find(',')]\n",
    "            string_after += ';'\n",
    "        else:\n",
    "            string_after = rreplace(string_after, ')', '', 1)\n",
    "        line = line.replace(string_before, string_after)\n",
    "        pattern_count[3] += 1\n",
    "\n",
    "    #bool re_s = address(this).send(any_ether);\n",
    "    elif re.search(' *= *[a-zA-Z_\\.\\(\\)_\\[\\]]*\\.send\\([a-zA-Z_.\\(\\)]*\\);', line):\n",
    "        string_before = re.search(' *= *[a-zA-Z_\\.\\(\\)_\\[\\]]*\\.send\\([a-zA-Z_.\\(\\)]*\\);', line).group()\n",
    "        string_after = string_before.replace('=', '= true;\\n').replace('.send(', '.transfer(').replace('.send (', '.transfer(')\n",
    "\n",
    "        line = line.replace(string_before, string_after)\n",
    "        pattern_count[4] += 1\n",
    "    \n",
    "    # any.send(Any) No any.send(Any, b, c)\n",
    "    elif re.search('\\.send *\\([^\\,\\n]*\\)', line):\n",
    "        string_before = re.search('\\.send *\\([^\\,\\n]*\\)', line).group()\n",
    "        string_after = string_before.replace('.send(', '.transfer(').replace('.send (', '.transfer(')\n",
    "        line = line.replace(string_before, string_after)\n",
    "        pattern_count[4] += 1\n",
    "\n",
    "    return line, pattern_count"
   ]
  },
  {
   "cell_type": "code",
   "execution_count": 7,
   "id": "03bf3a4c-4e25-4659-a2d4-85d63223df16",
   "metadata": {},
   "outputs": [
    {
     "name": "stdout",
     "output_type": "stream",
     "text": [
      "(' super.transfer(_to, _value);', [0, 0, 1, 0, 0])\n"
     ]
    }
   ],
   "source": [
    "line = 'if (!address(uint160(pool)).send(poolAmount)) {'\n",
    "line = 'return super.send(_to, _value);'\n",
    "print(process_line(line))"
   ]
  },
  {
   "cell_type": "code",
   "execution_count": 8,
   "id": "80420871-3bd0-47b1-a304-21b483f5c462",
   "metadata": {},
   "outputs": [
    {
     "data": {
      "text/plain": [
       "\"\\nimport shutil\\n\\ndest_dir_path = '/tmp/generated'\\n\\nif os.path.exists(dest_dir_path):\\n    shutil.rmtree(dest_dir_path)\\nif not os.path.exists(dest_dir_path):\\n    os.makedirs(dest_dir_path)\\n\""
      ]
     },
     "execution_count": 8,
     "metadata": {},
     "output_type": "execute_result"
    }
   ],
   "source": [
    "\"\"\"\n",
    "import shutil\n",
    "\n",
    "dest_dir_path = '/tmp/generated'\n",
    "\n",
    "if os.path.exists(dest_dir_path):\n",
    "    shutil.rmtree(dest_dir_path)\n",
    "if not os.path.exists(dest_dir_path):\n",
    "    os.makedirs(dest_dir_path)\n",
    "\"\"\""
   ]
  },
  {
   "cell_type": "code",
   "execution_count": 9,
   "id": "dcd79a63-b407-4a77-a1fe-a2927b4f3423",
   "metadata": {},
   "outputs": [
    {
     "data": {
      "text/plain": [
       "108"
      ]
     },
     "execution_count": 9,
     "metadata": {},
     "output_type": "execute_result"
    }
   ],
   "source": [
    "dest_dir_path = 'contract_send_replaced'\n",
    "\n",
    "total_stats = [0, 0, 0, 0, 0] # if, ifnot, return, require, bare\n",
    "replaced_counter = 0\n",
    "for _, r in send_dataset.iterrows():\n",
    "    replaced_flag = False\n",
    "    code = r['code']\n",
    "    addr = r['address']\n",
    "    newlines = []\n",
    "    contract_stats, stats = [0, 0, 0, 0, 0], [0, 0, 0, 0, 0]\n",
    "    \n",
    "    for line in code.split('\\n'):\n",
    "        \n",
    "        if re.search('\\.send *\\(', line):\n",
    "            line, stats = process_line(line)\n",
    "            replaced_flag = True\n",
    "        newlines.append(line)\n",
    "        contract_stats = [1 if sum(x) else 0 for x in zip(stats, contract_stats)]\n",
    "        \n",
    "    \n",
    "    #contract_stats = [0, 0, 0, 0, 0, 1] if sum(contract_stats) > 1 else contract_stats + [0]\n",
    "\n",
    "    total_stats = [sum(x) for x in zip(contract_stats, total_stats)]\n",
    "    \n",
    "    if replaced_flag:\n",
    "        replaced_counter+=1\n",
    "        \n",
    "replaced_counter\n",
    "            "
   ]
  },
  {
   "cell_type": "code",
   "execution_count": 10,
   "id": "4d0bc565-56e8-47d5-91ea-336926601922",
   "metadata": {},
   "outputs": [
    {
     "data": {
      "text/plain": [
       "[15, 13, 3, 15, 64]"
      ]
     },
     "execution_count": 10,
     "metadata": {},
     "output_type": "execute_result"
    }
   ],
   "source": [
    "total_stats"
   ]
  },
  {
   "cell_type": "code",
   "execution_count": 47,
   "id": "4975df0b-ef2f-4b51-933a-b055053eacc7",
   "metadata": {},
   "outputs": [
    {
     "data": {
      "text/plain": [
       "['0.12', '0.08', '0.03', '0.14', '0.58', '0.06']"
      ]
     },
     "execution_count": 47,
     "metadata": {},
     "output_type": "execute_result"
    }
   ],
   "source": [
    "['{:.2f}'.format(i/sum(total_stats)) for i in total_stats]"
   ]
  },
  {
   "cell_type": "markdown",
   "id": "1b9cc1cd-86a1-4379-868a-75050609e20d",
   "metadata": {
    "tags": []
   },
   "source": [
    "## Replace Call Pattern"
   ]
  },
  {
   "cell_type": "code",
   "execution_count": 11,
   "id": "5a429246-1fd4-440b-8fb1-d159df70933f",
   "metadata": {},
   "outputs": [],
   "source": [
    "from string import ascii_lowercase\n",
    "import re\n",
    "\n",
    "pattern_sha3 = '[\\w\\d_\\(\\)]+\\.call\\(bytes4\\((bytes32\\()*(sha3|keccak256)\\(\"[\\w\\d_]+\\([\\w\\d_,]*\\)\"\\)+(, [\\w\\d_,. \\[\\]]*\\)+)*'\n",
    "pattern_abi = '[\\w\\d_\\(\\)]+\\.call\\(abi\\.encodeWithSignature\\(\"[\\w\\d_]+\\([\\w\\d_,]*\\)\"\\)*(, [\\w\\d_,. ]*\\)+)*'\n",
    "\n",
    "\"\"\"\n",
    "require(_spender.call(bytes4(bytes32(keccak256(\"receiveApproval(address,uint256,address,bytes)\"))), msg.sender, _value, this, _extraData));\n",
    "bool callOk = address(to).call(bytes4(keccak256(\"onKSCReceived(address,address,uint256,uint8)\")), owner, spender, value, receiveType);\n",
    "require(_token.call(bytes4(keccak256(\"symbol()\"))));\n",
    "[\\w\\d_\\(\\)]+\\.call\\(bytes4\\((bytes32\\()*(sha3|keccak256)\\(\"[\\w\\d_]+\\([\\w\\d_,]*\\)\"\\)+(, [\\w\\d_,. ]*\\)+)*\n",
    "\n",
    "return receiver.call(abi.encodeWithSignature(\"onTokenTransfer(address,uint256,bytes)\", from, value, data));\n",
    "require(address(proxy).call(abi.encodeWithSignature(\"init(bytes)\", _data)), \"Init failed.\");\n",
    "[\\w\\d_\\(\\)]+\\.call\\(abi\\.encodeWithSignature\\(\"[\\w\\d_]+\\([\\w\\d_,]*\\)\"\\)*(, [\\w\\d_,. ]*\\)+)*\n",
    "\"\"\"\n",
    "\n",
    "def extract_string(pattern, string):\n",
    "    return re.search(pattern, string).group()\n",
    "\n",
    "def extract_dest_address(string):\n",
    "    dest_addr = string.split('.')[0]\n",
    "    return ''.join(dest_addr.split('require('))\n",
    "\n",
    "def extract_function_name(string):\n",
    "    return string.split('\"')[1]\n",
    "\n",
    "def extract_paramter_list(string):\n",
    "    return string.split('\"')[2].strip('(), ')\n",
    "\n",
    "def reconstruct_function_call(string):\n",
    "    da = extract_dest_address(string)\n",
    "    fn = extract_function_name(string).split('(')[0]\n",
    "    pl = extract_paramter_list(string)\n",
    "    return f'test({da}).{fn}({pl});\\n'\n",
    "\n",
    "def reconstruct_function_declearation(string):\n",
    "    fn = extract_function_name(string)\n",
    "    pl = fn.strip(')').split('(')[-1]\n",
    "    alphabet = list(ascii_lowercase)\n",
    "    pl_add_var_name = ', '.join([a + ' ' + b for (a,b) in zip(pl.split(','), alphabet)]) if pl else ''\n",
    "    fn_add_var_name = fn.split('(')[0] + '(' + pl_add_var_name + ')'\n",
    "    return f'function {fn_add_var_name};'\n"
   ]
  },
  {
   "cell_type": "code",
   "execution_count": 12,
   "id": "5099c704-f90b-4def-a2be-ccce68e8f1dc",
   "metadata": {},
   "outputs": [
    {
     "name": "stdout",
     "output_type": "stream",
     "text": [
      "require(ethFundDeposit.send(address(this).balance);\n"
     ]
    }
   ],
   "source": [
    "def rreplace(string, ori, new, times):\n",
    "    return new.join(string.rsplit(ori, times))\n",
    "\n",
    "string = 'require(ethFundDeposit.send(address(this).balance));'\n",
    "print(rreplace(string, ')', '', 1))"
   ]
  },
  {
   "cell_type": "code",
   "execution_count": 13,
   "id": "b9e00212-1072-4588-997b-66855bc7a068",
   "metadata": {},
   "outputs": [],
   "source": [
    "def process_line(line):\n",
    "    \n",
    "    pattern_sha3 = '[\\w\\d_\\(\\)]+\\.call\\(bytes4\\((bytes32\\()*(sha3|keccak256)\\(\"[\\w\\d_]+\\([\\w\\d_,]*\\)\"\\)+(, [\\w\\d_,. \\[\\]]*\\)+)*'\n",
    "    pattern_abi = '[\\w\\d_\\(\\)]+\\.call\\(abi\\.encodeWithSignature\\(\"[\\w\\d_]+\\([\\w\\d_,]*\\)\"\\)*(, [\\w\\d_,. ]*\\)+)*'\n",
    "    func_decl = None\n",
    "    \n",
    "    if re.search(pattern_sha3, line):\n",
    "        func_call = reconstruct_function_call(extract_string(pattern_sha3, line))\n",
    "        func_decl = reconstruct_function_declearation(extract_string(pattern_sha3, line))\n",
    "        line = line.replace(line, func_call)\n",
    "\n",
    "    elif re.search(pattern_abi, line):\n",
    "        func_call = reconstruct_function_call(extract_string(pattern_abi, line))\n",
    "        func_decl = reconstruct_function_declearation(extract_string(pattern_abi, line))\n",
    "        line = line.replace(line, func_call)\n",
    "\n",
    "    return line, func_decl"
   ]
  },
  {
   "cell_type": "code",
   "execution_count": null,
   "id": "29a9d16b-834d-42cc-918a-3f93d2f8fa68",
   "metadata": {},
   "outputs": [],
   "source": [
    "string = 'bool callOk = address(to).call(bytes4(keccak256(\"onKSCReceived(address,address,uint256,uint8)\")), owner, spender, value, receiveType);'\n",
    "print(reconstruct_function_call(extract_string(pattern_sha3, string)))\n",
    "print(reconstruct_function_declearation(extract_string(pattern_sha3, string)))\n",
    "\n",
    "string = 'require(address(proxy).call(abi.encodeWithSignature(\"init(bytes)\", _data)), \"Init failed.\");'\n",
    "print(reconstruct_function_call(extract_string(pattern_abi, string)))\n",
    "print(reconstruct_function_declearation(extract_string(pattern_abi, string)))\n",
    "\n",
    "string = 'return receiver.call(abi.encodeWithSignature(\"onTokenTransfer(address,uint256,bytes)\", from, value, data));'\n",
    "print(reconstruct_function_call(extract_string(pattern_abi, string)))\n",
    "print(reconstruct_function_declearation(extract_string(pattern_abi, string)))\n",
    "\n",
    "string = 'require(_token.call(bytes4(keccak256(\"symbol()\"))));'\n",
    "print(reconstruct_function_call(extract_string(pattern_sha3, string)))\n",
    "print(reconstruct_function_declearation(extract_string(pattern_sha3, string)))\n",
    "\n",
    "string = 'if(!ESSgenesis.call(bytes4(keccak256(\"transfer(address,uint256)\")), msg.sender, sold[msg.sender])){revert();}'\n",
    "print(reconstruct_function_call(extract_string(pattern_sha3, string)))\n",
    "print(reconstruct_function_declearation(extract_string(pattern_sha3, string)))"
   ]
  },
  {
   "cell_type": "code",
   "execution_count": null,
   "id": "87d57100-5b71-48ec-a943-c9ea626d7c8e",
   "metadata": {},
   "outputs": [],
   "source": [
    "dest_dir_path = 'contract_call_replaced'\n",
    "\n",
    "for _, r in call_dataset.iterrows():\n",
    "    code = r['code']\n",
    "    addr = r['address']\n",
    "    newlines = []\n",
    "    func_decls = []\n",
    "\n",
    "    for line in code.split('\\n'):\n",
    "        func_decl = None\n",
    "        if re.search('\\.call *\\(', line):\n",
    "            line, func_decl = process_line(line)\n",
    "            #print(line)\n",
    "        newlines.append(line)\n",
    "        if func_decl:\n",
    "            func_decls.append(func_decl)\n",
    "        \n",
    "    with open(f'../{dest_dir_path}/{addr}.sol', 'w') as f:\n",
    "        f.write('\\n'.join(newlines))\n",
    "        f.write('\\ncontract test {\\n\\t')\n",
    "        f.write('\\n\\t'.join([x for x in func_decls]))\n",
    "        f.write('\\n}')"
   ]
  },
  {
   "cell_type": "code",
   "execution_count": null,
   "id": "aac73172-73d3-4ab7-a170-9e3cdcc3793e",
   "metadata": {},
   "outputs": [],
   "source": []
  }
 ],
 "metadata": {
  "kernelspec": {
   "display_name": "Python 3 (ipykernel)",
   "language": "python",
   "name": "python3"
  },
  "language_info": {
   "codemirror_mode": {
    "name": "ipython",
    "version": 3
   },
   "file_extension": ".py",
   "mimetype": "text/x-python",
   "name": "python",
   "nbconvert_exporter": "python",
   "pygments_lexer": "ipython3",
   "version": "3.9.1"
  }
 },
 "nbformat": 4,
 "nbformat_minor": 5
}
